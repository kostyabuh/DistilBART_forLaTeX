{
  "nbformat": 4,
  "nbformat_minor": 0,
  "metadata": {
    "colab": {
      "provenance": [],
      "toc_visible": true
    },
    "kernelspec": {
      "name": "python3",
      "display_name": "Python 3"
    },
    "language_info": {
      "name": "python"
    }
  },
  "cells": [
    {
      "cell_type": "markdown",
      "source": [
        "Черновой вариант (не работает)"
      ],
      "metadata": {
        "id": "X38CEFOuHg79"
      }
    },
    {
      "cell_type": "code",
      "execution_count": null,
      "metadata": {
        "colab": {
          "base_uri": "https://localhost:8080/"
        },
        "id": "Ru3S3W07v6xI",
        "outputId": "ded7114d-e799-49f8-8968-9d6683ac1c28"
      },
      "outputs": [
        {
          "output_type": "stream",
          "name": "stdout",
          "text": [
            "\n",
            "Примеры разметки интеграла в LaTeX:\n",
            "интеграл от a до b функции f(x) \n",
            "\\int_{0}^{\\infty} g(x)\n",
            "интеграл от c до d функции h(x) \n",
            "\n",
            "Примеры дробей:\n",
            "\\frac{1}{2}\n",
            "дробь от x делить на y\n",
            "\n",
            "Примеры пределов:\n",
            "предел от x  до 0\n",
            "предел от 1  до \\infty\n",
            "\n"
          ]
        }
      ],
      "source": [
        "import re\n",
        "\n",
        "latex_text = r\"\"\"\n",
        "Примеры разметки интеграла в LaTeX:\n",
        "\\int_{a}^{b} f(x)\n",
        "\\int_{0}^{\\infty} g(x)\n",
        "\\int_{c}^{d} h(x)\n",
        "\n",
        "Примеры дробей:\n",
        "\\frac{1}{2}\n",
        "\\frac{x}{y}\n",
        "\n",
        "Примеры пределов:\n",
        "\\lim_{x \\to 0}\n",
        "\\lim_{1 \\to \\infty}\n",
        "\"\"\"\n",
        "\n",
        "# Регулярное выражение для поиска выражения вида \\lim_{x \\to ...} или \\frac{1}{2}\n",
        "pattern = r'\\\\lim_{([^}]+)\\s*\\\\to\\s*([^}]+)}|\\\\frac{([^{}]+)}{([^{}]+)}|\\\\int_{([^}]+)}\\s*\\^\\s*{([^}]+)}\\s*([^}]+)'\n",
        "\n",
        "# Функция для замены найденных выражений\n",
        "def replace_expression(match):\n",
        "    if match.group(1):\n",
        "        return f\"предел от {match.group(1)} до {match.group(2)}\"\n",
        "    elif match.group(3):\n",
        "        return f\"дробь от {match.group(3)} делить на {match.group(4)}\"\n",
        "    elif match.group(5):\n",
        "        return f\"интеграл от {match.group(5)} до {match.group(6)} функции {match.group(7)}\"\n",
        "\n",
        "# Замена найденных выражений\n",
        "modified_text = re.sub(pattern, replace_expression, latex_text)\n",
        "\n",
        "print(modified_text)\n"
      ]
    },
    {
      "cell_type": "markdown",
      "source": [
        "Вариант с одним регулярным выражением."
      ],
      "metadata": {
        "id": "QWgbKsRJHnxi"
      }
    },
    {
      "cell_type": "code",
      "source": [
        "import re\n",
        "\n",
        "latex_text = r\"\"\"\n",
        "Примеры разметки интеграла в LaTeX:\n",
        "\\int_{a}^{b}\n",
        "\\int_{0}^{\\infty}\n",
        "\\int_{c}^{d}\n",
        "\n",
        "Примеры дробей:\n",
        "\\frac{1}{2}\n",
        "\\frac{x}{y}\n",
        "\n",
        "Примеры пределов:\n",
        "\\lim_{x \\to 0}\n",
        "\\lim_{n \\to \\infty}\n",
        "\"\"\"\n",
        "\n",
        "# Измененное регулярное выражение для поиска выражения вида \\frac{...}{...}\n",
        "pattern = r'\\\\frac{([^{}]+)}{([^{}]+)}|\\\\int_{([^{}]+)}\\^{([^{}]+)}|\\\\lim_{([^{}]+)\\s*\\\\to\\s*([^{}]+)}'\n",
        "\n",
        "# Функция для замены найденных выражений\n",
        "#ретерн рандом чойс бла бла бла ...(для нескольких вариантов)\n",
        "#расширить по функциям\n",
        "\n",
        "\n",
        "def replace_expression(match):\n",
        "    if match.group(1):\n",
        "        return f\"дробь от {match.group(1)} до {match.group(2)}\"\n",
        "    elif match.group(3):\n",
        "        return f\"интеграл от {match.group(3)} делить на {match.group(4)}\"\n",
        "    elif match.group(5):\n",
        "        return f\"предел от {match.group(5)} до {match.group(6)}\"\n",
        "\n",
        "# Замена найденных выражений\n",
        "modified_text = re.sub(pattern, replace_expression, latex_text)\n",
        "\n",
        "print(modified_text)\n"
      ],
      "metadata": {
        "colab": {
          "base_uri": "https://localhost:8080/"
        },
        "id": "P4FS64MjDRVo",
        "outputId": "4383fdbe-840d-4799-de05-853f5e73517b"
      },
      "execution_count": null,
      "outputs": [
        {
          "output_type": "stream",
          "name": "stdout",
          "text": [
            "\n",
            "Примеры разметки интеграла в LaTeX:\n",
            "интеграл от a делить на b \n",
            "интеграл от 0 делить на \\infty \n",
            "интеграл от c делить на d  \n",
            "\n",
            "Примеры дробей:\n",
            "дробь от 1 до 2\n",
            "дробь от x до y\n",
            "\n",
            "Примеры пределов:\n",
            "предел от x  до 0\n",
            "предел от n  до \\infty\n",
            "\n"
          ]
        }
      ]
    },
    {
      "cell_type": "markdown",
      "source": [
        "С разными вариантами регулярок ( несколько функций)"
      ],
      "metadata": {
        "id": "e7V4IONrHvEb"
      }
    },
    {
      "cell_type": "code",
      "source": [
        "import re\n",
        "\n",
        "latex_text = r\"\"\"\n",
        "Примеры разметки интеграла в LaTeX:\n",
        "\\int_{a}^{\\infty}\n",
        "\\int_{a}^{\\infty}\n",
        "\\int_{1}^{a}\n",
        "\n",
        "Примеры дробей:\n",
        "\\frac{12}{2}\n",
        "\\frac{x}{\\infty}\n",
        "\n",
        "Примеры пределов:\n",
        "\\lim_{x \\to 0}\n",
        "\\lim_{n \\to \\infty}\n",
        "\"\"\"\n",
        "\n",
        "# Регулярное выражение для дробей \\frac{...}{...}\n",
        "fraction_pattern = r'\\\\frac{([^{}]+)}{([^{}]+)}'\n",
        "\n",
        "# Функция для замены найденных дробей\n",
        "def replace_fraction(match):\n",
        "    return f\"дробь от {match.group(1)} делить на {match.group(2)}\"\n",
        "\n",
        "# Регулярное выражение для интегралов \\int_{...}^{...} ...\n",
        "integral_pattern = r'\\\\int_{([^{}]+)}\\^{([^{}]+)}'\n",
        "\n",
        "# Функция для замены найденных интегралов\n",
        "def replace_integral(match):\n",
        "    return f\"интеграл от {match.group(1)} до {match.group(2)}\"\n",
        "\n",
        "# Регулярное выражение для пределов \\lim_{...}\n",
        "limit_pattern = r'\\\\lim_{([^{}]+)\\s*\\\\to\\s*([^{}]+)}'\n",
        "\n",
        "# Функция для замены найденных пределов\n",
        "def replace_limit(match):\n",
        "    return f\"предел от {match.group(1)} до {match.group(2)}\"\n",
        "\n",
        "# Замена найденных выражений\n",
        "modified_text = re.sub(fraction_pattern, replace_fraction, latex_text)\n",
        "modified_text = re.sub(integral_pattern, replace_integral, modified_text)\n",
        "modified_text = re.sub(limit_pattern, replace_limit, modified_text)\n",
        "\n",
        "print(modified_text)\n"
      ],
      "metadata": {
        "colab": {
          "base_uri": "https://localhost:8080/"
        },
        "id": "1mn0xk-iEBCa",
        "outputId": "87e18c34-4f3a-44de-d087-02fb38eb1382"
      },
      "execution_count": null,
      "outputs": [
        {
          "output_type": "stream",
          "name": "stdout",
          "text": [
            "\n",
            "Примеры разметки интеграла в LaTeX:\n",
            "интеграл от a до \\infty\n",
            "интеграл от a до \\infty\n",
            "интеграл от 1 до a  \n",
            "\n",
            "Примеры дробей:\n",
            "дробь от 12 делить на 2\n",
            "дробь от x делить на \\infty\n",
            "\n",
            "Примеры пределов:\n",
            "предел от x  до 0\n",
            "предел от n  до \\infty\n",
            "\n"
          ]
        }
      ]
    }
  ]
}