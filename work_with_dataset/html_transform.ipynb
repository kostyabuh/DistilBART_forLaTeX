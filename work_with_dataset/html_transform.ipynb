{
  "nbformat": 4,
  "nbformat_minor": 0,
  "metadata": {
    "colab": {
      "provenance": []
    },
    "kernelspec": {
      "name": "python3",
      "display_name": "Python 3"
    },
    "language_info": {
      "name": "python"
    }
  },
  "cells": [
    {
      "cell_type": "code",
      "execution_count": null,
      "metadata": {
        "colab": {
          "base_uri": "https://localhost:8080/"
        },
        "id": "y9dqXaQIMXJW",
        "outputId": "20711b76-52b3-4f25-e3ce-f9a3a9a86950"
      },
      "outputs": [
        {
          "output_type": "stream",
          "name": "stdout",
          "text": [
            "'\n"
          ]
        }
      ],
      "source": [
        "\n",
        "\n",
        "import html\n",
        "\n",
        "def html_to_unicode(input_string):\n",
        "    return html.unescape(input_string)\n",
        "\n",
        "# Пример использования\n",
        "html_string = \"&#39;\"\n",
        "unicode_string = html_to_unicode(html_string)\n",
        "print(unicode_string)\n"
      ]
    }
  ]
}