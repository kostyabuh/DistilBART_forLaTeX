{
  "nbformat": 4,
  "nbformat_minor": 0,
  "metadata": {
    "colab": {
      "provenance": [],
      "toc_visible": true
    },
    "kernelspec": {
      "name": "python3",
      "display_name": "Python 3"
    },
    "language_info": {
      "name": "python"
    }
  },
  "cells": [
    {
      "cell_type": "markdown",
      "source": [
        "Черновой вариант (не работает)"
      ],
      "metadata": {
        "id": "X38CEFOuHg79"
      }
    },
    {
      "cell_type": "code",
      "execution_count": null,
      "metadata": {
        "colab": {
          "base_uri": "https://localhost:8080/"
        },
        "id": "Ru3S3W07v6xI",
        "outputId": "ded7114d-e799-49f8-8968-9d6683ac1c28"
      },
      "outputs": [
        {
          "output_type": "stream",
          "name": "stdout",
          "text": [
            "\n",
            "Примеры разметки интеграла в LaTeX:\n",
            "интеграл от a до b функции f(x) \n",
            "\\int_{0}^{\\infty} g(x)\n",
            "интеграл от c до d функции h(x) \n",
            "\n",
            "Примеры дробей:\n",
            "\\frac{1}{2}\n",
            "дробь от x делить на y\n",
            "\n",
            "Примеры пределов:\n",
            "предел от x  до 0\n",
            "предел от 1  до \\infty\n",
            "\n"
          ]
        }
      ],
      "source": [
        "import re\n",
        "\n",
        "latex_text = r\"\"\"\n",
        "Примеры разметки интеграла в LaTeX:\n",
        "\\int_{a}^{b} f(x)\n",
        "\\int_{0}^{\\infty} g(x)\n",
        "\\int_{c}^{d} h(x)\n",
        "\n",
        "Примеры дробей:\n",
        "\\frac{1}{2}\n",
        "\\frac{x}{y}\n",
        "\n",
        "Примеры пределов:\n",
        "\\lim_{x \\to 0}\n",
        "\\lim_{1 \\to \\infty}\n",
        "\"\"\"\n",
        "\n",
        "# Регулярное выражение для поиска выражения вида \\lim_{x \\to ...} или \\frac{1}{2}\n",
        "pattern = r'\\\\lim_{([^}]+)\\s*\\\\to\\s*([^}]+)}|\\\\frac{([^{}]+)}{([^{}]+)}|\\\\int_{([^}]+)}\\s*\\^\\s*{([^}]+)}\\s*([^}]+)'\n",
        "\n",
        "# Функция для замены найденных выражений\n",
        "def replace_expression(match):\n",
        "    if match.group(1):\n",
        "        return f\"предел от {match.group(1)} до {match.group(2)}\"\n",
        "    elif match.group(3):\n",
        "        return f\"дробь от {match.group(3)} делить на {match.group(4)}\"\n",
        "    elif match.group(5):\n",
        "        return f\"интеграл от {match.group(5)} до {match.group(6)} функции {match.group(7)}\"\n",
        "\n",
        "# Замена найденных выражений\n",
        "modified_text = re.sub(pattern, replace_expression, latex_text)\n",
        "\n",
        "print(modified_text)\n"
      ]
    },
    {
      "cell_type": "markdown",
      "source": [
        "Вариант с одним регулярным выражением."
      ],
      "metadata": {
        "id": "QWgbKsRJHnxi"
      }
    },
    {
      "cell_type": "code",
      "source": [
        "import re\n",
        "\n",
        "latex_text = r\"\"\"\n",
        "Примеры разметки интеграла в LaTeX:\n",
        "\\int_{\\frac{1}{2}}^{b}\n",
        "\\int_{0}^{\\infty}\n",
        "\\int_{c}^{d}\n",
        "\n",
        "Примеры дробей:\n",
        "\\frac{1}{2}\n",
        "\\frac{x}{y}\n",
        "\n",
        "Примеры пределов:\n",
        "\\lim_{x \\to 0}\n",
        "\\lim_{n \\to \\infty}\n",
        "\"\"\"\n",
        "\n",
        "# Измененное регулярное выражение для поиска выражения вида \\frac{...}{...}\n",
        "pattern = r'\\\\int_{([^{}]+)}\\^{([^{}]+)}|\\\\frac{([^{}]+)}{([^{}]+)}|\\\\lim_{([^{}]+)\\s*\\\\to\\s*([^{}]+)}'\n",
        "\n",
        "# Функция для замены найденных выражений\n",
        "#ретерн рандом чойс бла бла бла ...(для нескольких вариантов)\n",
        "#расширить по функциям\n",
        "\n",
        "\n",
        "def replace_expression(match):\n",
        "    if match.group(1):\n",
        "        return f\"дробь от {match.group(1)} до {match.group(2)}\"\n",
        "    elif match.group(3):\n",
        "        return f\"интеграл от {match.group(3)} делить на {match.group(4)}\"\n",
        "    elif match.group(5):\n",
        "        return f\"предел от {match.group(5)} до {match.group(6)}\"\n",
        "\n",
        "# Замена найденных выражений\n",
        "modified_text = re.sub(pattern, replace_expression, latex_text)\n",
        "\n",
        "print(modified_text)\n"
      ],
      "metadata": {
        "colab": {
          "base_uri": "https://localhost:8080/"
        },
        "id": "P4FS64MjDRVo",
        "outputId": "c3cd5432-e474-4cd6-c3c5-8bcd8560b378"
      },
      "execution_count": null,
      "outputs": [
        {
          "output_type": "stream",
          "name": "stdout",
          "text": [
            "\n",
            "Примеры разметки интеграла в LaTeX:\n",
            "\\int_{интеграл от 1 делить на 2}^{b}\n",
            "дробь от 0 до \\infty\n",
            "дробь от c до d\n",
            "\n",
            "Примеры дробей:\n",
            "интеграл от 1 делить на 2\n",
            "интеграл от x делить на y\n",
            "\n",
            "Примеры пределов:\n",
            "предел от x  до 0\n",
            "предел от n  до \\infty\n",
            "\n"
          ]
        }
      ]
    },
    {
      "cell_type": "markdown",
      "source": [
        "С разными вариантами регулярок ( несколько функций)"
      ],
      "metadata": {
        "id": "e7V4IONrHvEb"
      }
    },
    {
      "cell_type": "code",
      "source": [
        "import re\n",
        "\n",
        "latex_text = r\"\"\"\n",
        "Примеры разметки интеграла в LaTeX:\n",
        "$$$$$$$$$$$$$$$$$$$$$$$$$$$$$$4tguh\\int_{a}^{\\infty + x^2}$$$$$$$$$$$$$$$$$$$$44\n",
        "\\int_{\\frac{12}{2}}^{\\infty} \\int_{\\frac{12}{2}}^{\\infty}\n",
        "\\int_{1}^{a}\n",
        "\\iint_{1}^{a}\n",
        "\\iiint_{1}^{aaaaaaaaaaaaaaaaaaaaaaaaaaaaaaaaaaaaaaaaaaaaaaaaaaaaaaaaa}\n",
        "\\oint_{1}^{a}\n",
        "\n",
        "\n",
        "Примеры дробей:\n",
        "\\frac{12}{2}\n",
        "\\frac{x}{\\infty}\n",
        "\n",
        "Примеры пределов:\n",
        "\\lim_{x \\to 0}\n",
        "\\lim_{n \\to \\infty}\n",
        "\n",
        "Примеры корней:\n",
        "\\sqrt[4]{2}\n",
        "\\sqrt{2}\n",
        "\n",
        "\n",
        "\\sum_{x = 0}^{5}10х\\frac{12}{2} = lyl\n",
        "\"\"\"\n",
        "\n",
        "# Регулярное выражение для дробей\n",
        "fraction_pattern = r'\\\\frac{([^{}]+)}{([^{}]+)}'\n",
        "\n",
        "# Функция для замены найденных дробей\n",
        "def replace_fraction(match):\n",
        "    return f\" дробь {match.group(1)} делить на {match.group(2)}\"\n",
        "\n",
        "#Регулярное выражение для корней\n",
        "sqrt_pattern = r'\\\\sqrt\\[([^{}]+)\\]{([^{}]+)}|\\\\sqrt{([^{}]+)}'\n",
        "\n",
        "# Функция для замены найденных корней\n",
        "def replace_sqrt(match):\n",
        "  if match.group(1):\n",
        "      return f\" корень {match.group(1)}-й степени из {match.group(2)}\"\n",
        "  elif match.group(3):\n",
        "      return f\" корень из {match.group(3)} \"\n",
        "\n",
        "# Регулярное выражение для интегралов\n",
        "integral_pattern = r'\\\\int_{([^{}]+)}\\^{([^{}]+)}|\\\\iint_{([^{}]+)}\\^{([^{}]+)}|\\\\iiint_{([^{}]+)}\\^{([^{}]+)}|\\\\oint_{([^{}]+)}\\^{([^{}]+)}'\n",
        "\n",
        "# Функция для замены найденных интегралов\n",
        "def replace_integral(match):\n",
        "    if match.group(1):\n",
        "        return f\" определенный интеграл от {match.group(1)} до {match.group(2)}\"\n",
        "    elif match.group(3):\n",
        "        return f\" двойной интеграл от {match.group(3)} до {match.group(4)}\"\n",
        "    elif match.group(5):\n",
        "        return f\" тройной интеграл от {match.group(5)} до {match.group(6)}\"\n",
        "    elif match.group(7):\n",
        "        return f\" контурный интеграл от {match.group(7)} до {match.group(8)}\"\n",
        "\n",
        "# Регулярное выражение для пределов \\lim_{...}\n",
        "limit_pattern = r'\\\\lim_{([^{}]+)\\s*\\\\to\\s*([^{}]+)}'\n",
        "\n",
        "# Функция для замены найденных пределов\n",
        "def replace_limit(match):\n",
        "    return f\" предел от {match.group(1)} до {match.group(2)}\"\n",
        "\n",
        "\n",
        "# Регулярное выражение для суммы и произведения\n",
        "sum_and_prod_pattern = r'\\\\sum_{([^{}]+)}\\^{([^{}]+)}([^{}\\=]+)|\\\\prod_{([^{}]+)}\\^{([^{}]+)}([^{}\\=]+)'\n",
        "\n",
        "# Функция для замены суммы и произведения\n",
        "def replace_sum_and_prod(match):\n",
        "    if match.group(1):\n",
        "        return f\" сумма {match.group(3)} от {match.group(1)} до {match.group(2)} \"\n",
        "    elif match.group(4):\n",
        "        return f\" произведение функции {match.group(6)} от {match.group(4)} до {match.group(5)} \"\n",
        "\n",
        "\n",
        "\n",
        "# Замена найденных выражений\n",
        "modified_text = re.sub(fraction_pattern, replace_fraction, latex_text)\n",
        "modified_text = re.sub(integral_pattern, replace_integral, modified_text)\n",
        "modified_text = re.sub(limit_pattern, replace_limit, modified_text)\n",
        "modified_text = re.sub(sqrt_pattern, replace_sqrt, modified_text)\n",
        "modified_text = re.sub(sum_and_prod_pattern, replace_sum_and_prod, modified_text)\n",
        "\n",
        "print(modified_text)\n"
      ],
      "metadata": {
        "colab": {
          "base_uri": "https://localhost:8080/"
        },
        "id": "1mn0xk-iEBCa",
        "outputId": "fc834590-c038-400f-b687-ec109c149526"
      },
      "execution_count": null,
      "outputs": [
        {
          "output_type": "stream",
          "name": "stdout",
          "text": [
            "\n",
            "Примеры разметки интеграла в LaTeX:\n",
            "$$$$$$$$$$$$$$$$$$$$$$$$$$$$$$4tguh определенный интеграл от a до \\infty + x^2$$$$$$$$$$$$$$$$$$$$44\n",
            " определенный интеграл от  дробь 12 делить на 2 до \\infty  определенный интеграл от  дробь 12 делить на 2 до \\infty\n",
            " определенный интеграл от 1 до a\n",
            " двойной интеграл от 1 до a\n",
            " тройной интеграл от 1 до aaaaaaaaaaaaaaaaaaaaaaaaaaaaaaaaaaaaaaaaaaaaaaaaaaaaaaaaa\n",
            " контурный интеграл от 1 до a\n",
            "\n",
            "\n",
            "Примеры дробей:\n",
            " дробь 12 делить на 2\n",
            " дробь x делить на \\infty\n",
            "\n",
            "Примеры пределов:\n",
            " предел от x  до 0\n",
            " предел от n  до \\infty\n",
            "\n",
            "Примеры корней:\n",
            " корень 4-й степени из 2\n",
            " корень из 2 \n",
            "\n",
            "\n",
            " сумма 10х дробь 12 делить на 2  от x = 0 до 5 = lyl\n",
            "\n"
          ]
        }
      ]
    },
    {
      "cell_type": "code",
      "source": [
        "lll = [r'\\\\frac{([^{}]+)}{([^{}]+)}',\n",
        "       r'\\\\int_{([^{}]+)}\\^{([^{}]+)}',\n",
        "       r'\\\\lim_{([^{}]+)\\s*\\\\to\\s*([^{}]+)}']\n",
        "\n",
        "pattern = '|'.join(a for a in lll)\n",
        "print(pattern)"
      ],
      "metadata": {
        "colab": {
          "base_uri": "https://localhost:8080/"
        },
        "id": "ox1UR4nCT5mt",
        "outputId": "3103f196-26e9-4539-8935-0a63d99f879e"
      },
      "execution_count": null,
      "outputs": [
        {
          "output_type": "stream",
          "name": "stdout",
          "text": [
            "\\\\frac{([^{}]+)}{([^{}]+)}|\\\\int_{([^{}]+)}\\^{([^{}]+)}|\\\\lim_{([^{}]+)\\s*\\\\to\\s*([^{}]+)}\n"
          ]
        }
      ]
    },
    {
      "cell_type": "code",
      "source": [
        "integral_pattern = r'\\\\int_{([^{}]+)}\\^{([^{}]+)}\n",
        "iintegral_pattern = r'\\\\iint_{([^{}]+)}\\^{([^{}]+)}\n",
        "iiintegral_pattern = r'\\\\iiint_{([^{}]+)}\\^{([^{}]+)}\n",
        "ointegral_pattern = r'\\\\oint_{([^{}]+)}\\^{([^{}]+)}\n",
        "\n",
        "pattern = '|'.join()\n",
        "\n",
        "print(pattern)"
      ],
      "metadata": {
        "colab": {
          "base_uri": "https://localhost:8080/",
          "height": 140
        },
        "id": "-83OPehwUY23",
        "outputId": "11436d87-65b3-4fb8-ec2c-5848724d5edc"
      },
      "execution_count": null,
      "outputs": [
        {
          "output_type": "error",
          "ename": "SyntaxError",
          "evalue": "unterminated string literal (detected at line 1) (<ipython-input-8-7689496d9f6e>, line 1)",
          "traceback": [
            "\u001b[0;36m  File \u001b[0;32m\"<ipython-input-8-7689496d9f6e>\"\u001b[0;36m, line \u001b[0;32m1\u001b[0m\n\u001b[0;31m    integral_pattern = r'\\\\int_{([^{}]+)}\\^{([^{}]+)}\u001b[0m\n\u001b[0m                       ^\u001b[0m\n\u001b[0;31mSyntaxError\u001b[0m\u001b[0;31m:\u001b[0m unterminated string literal (detected at line 1)\n"
          ]
        }
      ]
    }
  ]
}